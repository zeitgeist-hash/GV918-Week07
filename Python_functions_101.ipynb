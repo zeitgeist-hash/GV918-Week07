{
  "nbformat": 4,
  "nbformat_minor": 0,
  "metadata": {
    "colab": {
      "name": "Python functions 101.ipynb",
      "provenance": [],
      "collapsed_sections": []
    },
    "kernelspec": {
      "name": "python3",
      "display_name": "Python 3"
    }
  },
  "cells": [
    {
      "cell_type": "markdown",
      "metadata": {
        "id": "0QoZVDq6dijc"
      },
      "source": [
        "# Python functions 101\n",
        "\n",
        "### What is function? (https://www.w3schools.com/python/python_functions.asp)\n",
        "\n",
        "- A function is a block of code which only runs when it is called.\n",
        "- You can pass data, known as parameters, into a function.\n",
        "- A function can return data as a result.\n",
        "\n",
        "\n"
      ]
    },
    {
      "cell_type": "markdown",
      "metadata": {
        "id": "oSDlKKhMeRvx"
      },
      "source": [
        "## a very simple function without argument "
      ]
    },
    {
      "cell_type": "code",
      "metadata": {
        "id": "nw9rfE4Udf2v"
      },
      "source": [
        "def print_hello():\n",
        "  print('hello')"
      ],
      "execution_count": 1,
      "outputs": []
    },
    {
      "cell_type": "code",
      "metadata": {
        "id": "Xfzb7gBZra6C",
        "outputId": "29c49942-fab9-4404-8e0a-84e5ddda238f",
        "colab": {
          "base_uri": "https://localhost:8080/"
        }
      },
      "source": [
        "print_hello()"
      ],
      "execution_count": 2,
      "outputs": [
        {
          "output_type": "stream",
          "text": [
            "hello\n"
          ],
          "name": "stdout"
        }
      ]
    },
    {
      "cell_type": "markdown",
      "metadata": {
        "id": "XiKnkoHKehuD"
      },
      "source": [
        ""
      ]
    },
    {
      "cell_type": "markdown",
      "metadata": {
        "id": "AcXjtSYIei98"
      },
      "source": [
        "## a function with an argument "
      ]
    },
    {
      "cell_type": "code",
      "metadata": {
        "id": "nT47rI-gei9-",
        "outputId": "140e557c-ec32-4d4b-f821-794f1a00eb06",
        "colab": {
          "base_uri": "https://localhost:8080/"
        }
      },
      "source": [
        "def add_2_to_input(num):\n",
        "  new_number = num + 2\n",
        "  return(new_number)\n"
      ],
      "execution_count": 6,
      "outputs": [
        {
          "output_type": "execute_result",
          "data": {
            "text/plain": [
              "1"
            ]
          },
          "metadata": {
            "tags": []
          },
          "execution_count": 6
        }
      ]
    },
    {
      "cell_type": "code",
      "metadata": {
        "id": "DrIssLvfr04F",
        "outputId": "40cbe50d-6217-4ca6-b292-b32305eea87f",
        "colab": {
          "base_uri": "https://localhost:8080/"
        }
      },
      "source": [
        "output = add_2_to_input(5)\n",
        "output"
      ],
      "execution_count": 5,
      "outputs": [
        {
          "output_type": "execute_result",
          "data": {
            "text/plain": [
              "7"
            ]
          },
          "metadata": {
            "tags": []
          },
          "execution_count": 5
        }
      ]
    },
    {
      "cell_type": "markdown",
      "metadata": {
        "id": "Egfgq7sFehUc"
      },
      "source": [
        "## a very function with two arguments"
      ]
    },
    {
      "cell_type": "code",
      "metadata": {
        "id": "f_pr-y2cegVt"
      },
      "source": [
        "def add_numbers(num1, num2):\n",
        "  return(num1 + num2)"
      ],
      "execution_count": 7,
      "outputs": []
    },
    {
      "cell_type": "code",
      "metadata": {
        "id": "ObjIZPi0sbRl",
        "outputId": "7375335c-71f6-4330-c9ee-ec2bba13eda2",
        "colab": {
          "base_uri": "https://localhost:8080/"
        }
      },
      "source": [
        "x = 3\n",
        "add_numbers(x, 5)"
      ],
      "execution_count": 10,
      "outputs": [
        {
          "output_type": "execute_result",
          "data": {
            "text/plain": [
              "8"
            ]
          },
          "metadata": {
            "tags": []
          },
          "execution_count": 10
        }
      ]
    },
    {
      "cell_type": "code",
      "metadata": {
        "id": "Me2OjGUrsmkA",
        "outputId": "7b806667-95ed-48e0-f32c-1cd1ca3a7c78",
        "colab": {
          "base_uri": "https://localhost:8080/",
          "height": 164
        }
      },
      "source": [
        "add_numbers(3)"
      ],
      "execution_count": 11,
      "outputs": [
        {
          "output_type": "error",
          "ename": "TypeError",
          "evalue": "ignored",
          "traceback": [
            "\u001b[0;31m---------------------------------------------------------------------------\u001b[0m",
            "\u001b[0;31mTypeError\u001b[0m                                 Traceback (most recent call last)",
            "\u001b[0;32m<ipython-input-11-fb8ff38ba81e>\u001b[0m in \u001b[0;36m<module>\u001b[0;34m()\u001b[0m\n\u001b[0;32m----> 1\u001b[0;31m \u001b[0madd_numbers\u001b[0m\u001b[0;34m(\u001b[0m\u001b[0;36m3\u001b[0m\u001b[0;34m)\u001b[0m\u001b[0;34m\u001b[0m\u001b[0;34m\u001b[0m\u001b[0m\n\u001b[0m",
            "\u001b[0;31mTypeError\u001b[0m: add_numbers() missing 1 required positional argument: 'num2'"
          ]
        }
      ]
    },
    {
      "cell_type": "markdown",
      "metadata": {
        "id": "BEbmMOtUfoSE"
      },
      "source": [
        "## a function with two arguments with defaults "
      ]
    },
    {
      "cell_type": "code",
      "metadata": {
        "id": "_9yASq-cfoSF"
      },
      "source": [
        "def add_numbers_with_defaults(num1, num2 = 200):\n",
        "  return(num1 + num2)\n"
      ],
      "execution_count": 17,
      "outputs": []
    },
    {
      "cell_type": "code",
      "metadata": {
        "id": "OHAAQ8g-tJQS"
      },
      "source": [
        ""
      ],
      "execution_count": null,
      "outputs": []
    },
    {
      "cell_type": "code",
      "metadata": {
        "id": "ev36VhIMs3kP",
        "outputId": "ce8851d6-b84e-4104-e373-931c51425946",
        "colab": {
          "base_uri": "https://localhost:8080/"
        }
      },
      "source": [
        "add_numbers_with_defaults(2, 5)"
      ],
      "execution_count": 13,
      "outputs": [
        {
          "output_type": "execute_result",
          "data": {
            "text/plain": [
              "7"
            ]
          },
          "metadata": {
            "tags": []
          },
          "execution_count": 13
        }
      ]
    },
    {
      "cell_type": "code",
      "metadata": {
        "id": "jxmtL9Vus55o",
        "outputId": "c9f3d12d-aa6e-4285-e409-4d45a587432f",
        "colab": {
          "base_uri": "https://localhost:8080/"
        }
      },
      "source": [
        "add_numbers_with_defaults(4)"
      ],
      "execution_count": 14,
      "outputs": [
        {
          "output_type": "execute_result",
          "data": {
            "text/plain": [
              "204"
            ]
          },
          "metadata": {
            "tags": []
          },
          "execution_count": 14
        }
      ]
    },
    {
      "cell_type": "markdown",
      "metadata": {
        "id": "BzvSBJgSgBc-"
      },
      "source": [
        "## a function with arbitrary number of arguments"
      ]
    },
    {
      "cell_type": "code",
      "metadata": {
        "id": "9mw9DEFlgBc_"
      },
      "source": [
        "def sum_numbers_and_multiply(*numbers, multi):\n",
        "  output = sum(numbers) * multi\n",
        "  return(output)"
      ],
      "execution_count": 19,
      "outputs": []
    },
    {
      "cell_type": "code",
      "metadata": {
        "id": "MEYqGV9Ve2FF",
        "outputId": "54c3f27f-9fd3-424a-dc5a-bab8c7d0791c",
        "colab": {
          "base_uri": "https://localhost:8080/"
        }
      },
      "source": [
        "sum_numbers_and_multiply(1,3, multi = 2)"
      ],
      "execution_count": 20,
      "outputs": [
        {
          "output_type": "execute_result",
          "data": {
            "text/plain": [
              "8"
            ]
          },
          "metadata": {
            "tags": []
          },
          "execution_count": 20
        }
      ]
    },
    {
      "cell_type": "code",
      "metadata": {
        "id": "kuv0hGddty0H"
      },
      "source": [
        ""
      ],
      "execution_count": null,
      "outputs": []
    }
  ]
}